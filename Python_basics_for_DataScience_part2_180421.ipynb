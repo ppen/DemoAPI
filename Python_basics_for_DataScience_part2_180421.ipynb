{
  "nbformat": 4,
  "nbformat_minor": 0,
  "metadata": {
    "colab": {
      "name": "Python_basics_for_DataScience_part2_180421",
      "provenance": [],
      "include_colab_link": true
    },
    "kernelspec": {
      "name": "python3",
      "display_name": "Python 3"
    }
  },
  "cells": [
    {
      "cell_type": "markdown",
      "metadata": {
        "id": "view-in-github",
        "colab_type": "text"
      },
      "source": [
        "<a href=\"https://colab.research.google.com/github/ppen/DemoAPI/blob/master/Python_basics_for_DataScience_part2_180421.ipynb\" target=\"_parent\"><img src=\"https://colab.research.google.com/assets/colab-badge.svg\" alt=\"Open In Colab\"/></a>"
      ]
    },
    {
      "cell_type": "markdown",
      "metadata": {
        "id": "hxsJ8-9YzQo8"
      },
      "source": [
        "\n",
        "\n",
        "\n",
        "\n",
        "\n",
        "[ทบทวน basic Python Syntax](https://colab.research.google.com/drive/1i6Hl4pr4Bpt0E0-2_1RvGF4k5WwYgvZA?usp=sharing)"
      ]
    },
    {
      "cell_type": "code",
      "metadata": {
        "id": "IrhGz_q7zI18"
      },
      "source": [
        "class car:\n",
        "  def __init__(self,color,speed):\n",
        "    self.color = color\n",
        "    self.speed = speed\n",
        "    self.position = 0\n",
        "  def moveforward(self,hours):\n",
        "    self.position = self.position + self.speed*hours\n",
        "\n",
        "\n"
      ],
      "execution_count": null,
      "outputs": []
    },
    {
      "cell_type": "code",
      "metadata": {
        "id": "bp8RVooY0E8e"
      },
      "source": [
        "wcar = car('blue',100)\n",
        "mycar = car('red',120)"
      ],
      "execution_count": null,
      "outputs": []
    },
    {
      "cell_type": "code",
      "metadata": {
        "colab": {
          "base_uri": "https://localhost:8080/"
        },
        "id": "i6VVJPPV0Nh6",
        "outputId": "72df1685-4005-4e7d-baf7-58e180bf7883"
      },
      "source": [
        "mycar.position"
      ],
      "execution_count": null,
      "outputs": [
        {
          "output_type": "execute_result",
          "data": {
            "text/plain": [
              "600"
            ]
          },
          "metadata": {
            "tags": []
          },
          "execution_count": 193
        }
      ]
    },
    {
      "cell_type": "code",
      "metadata": {
        "id": "m4xBvkWhRseF"
      },
      "source": [
        "import numpy as np\n",
        "class monster:\n",
        "  def __init__(self):\n",
        "    self.hp = 3\n",
        "    self.charge = 0\n",
        "  \n",
        "  def chargemove(self):\n",
        "    self.charge = self.charge + 1\n",
        "    if self.charge > 2:\n",
        "      self.charge = 3\n",
        "  \n",
        "  def attackmove(self,opp,oppmove):\n",
        "    charge = self.charge\n",
        "    self.charge = 0\n",
        "    if oppmove == 'attack':\n",
        "      if charge > opp.charge:\n",
        "        opp.hp = opp.hp - (charge - opp.charge)\n",
        "    elif oppmove == 'defend':\n",
        "      if charge > 0:\n",
        "        opp.hp = opp.hp - charge + 1\n",
        "    else:\n",
        "      opp.hp = opp.hp - charge\n",
        "    return opp\n",
        "\n",
        "  def selectmove(self):\n",
        "    rint = np.random.randint(3)\n",
        "    if rint == 0:\n",
        "      move = 'defend'\n",
        "    if rint == 1:\n",
        "      move = 'charge'\n",
        "    if rint == 2:\n",
        "      move = 'attack'\n",
        "    return move\n",
        "    \n"
      ],
      "execution_count": null,
      "outputs": []
    },
    {
      "cell_type": "code",
      "metadata": {
        "id": "Iuqszk0TbhK3"
      },
      "source": [
        "a = monster()\n",
        "b = monster()"
      ],
      "execution_count": null,
      "outputs": []
    },
    {
      "cell_type": "code",
      "metadata": {
        "colab": {
          "base_uri": "https://localhost:8080/"
        },
        "id": "hQf1N40ubmso",
        "outputId": "106f6f99-885e-4122-ca6f-2429b8d4b983"
      },
      "source": [
        "while (a.hp>0) & (b.hp >0):\n",
        "  amove = a.selectmove()\n",
        "  bmove = b.selectmove()\n",
        "  print('a select: %s'%amove)\n",
        "  print('b select: %s'%bmove)\n",
        "  if amove == 'charge':\n",
        "    a.chargemove()\n",
        "  if bmove == 'charge':\n",
        "    b.chargemove()\n",
        "  if amove == 'attack':\n",
        "    b = a.attackmove(b,bmove)\n",
        "  if bmove == 'attack':\n",
        "    a = b.attackmove(a,amove)\n",
        "  print('a hp:%s charge:%s'%(a.hp,a.charge))\n",
        "  print('b hp:%s charge:%s'%(b.hp,b.charge))\n",
        "  print('---')\n",
        "  input()"
      ],
      "execution_count": null,
      "outputs": [
        {
          "output_type": "stream",
          "text": [
            "a select: attack\n",
            "b select: defend\n",
            "a hp:3 charge:0\n",
            "b hp:3 charge:0\n",
            "---\n",
            "\n",
            "a select: charge\n",
            "b select: attack\n",
            "a hp:3 charge:1\n",
            "b hp:3 charge:0\n",
            "---\n",
            "\n",
            "a select: charge\n",
            "b select: defend\n",
            "a hp:3 charge:2\n",
            "b hp:3 charge:0\n",
            "---\n",
            "\n",
            "a select: charge\n",
            "b select: attack\n",
            "a hp:3 charge:3\n",
            "b hp:3 charge:0\n",
            "---\n",
            "\n",
            "a select: charge\n",
            "b select: attack\n",
            "a hp:3 charge:3\n",
            "b hp:3 charge:0\n",
            "---\n",
            "\n",
            "a select: defend\n",
            "b select: defend\n",
            "a hp:3 charge:3\n",
            "b hp:3 charge:0\n",
            "---\n",
            "\n",
            "a select: defend\n",
            "b select: charge\n",
            "a hp:3 charge:3\n",
            "b hp:3 charge:1\n",
            "---\n",
            "\n",
            "a select: attack\n",
            "b select: charge\n",
            "a hp:3 charge:0\n",
            "b hp:0 charge:2\n",
            "---\n",
            "\n"
          ],
          "name": "stdout"
        }
      ]
    },
    {
      "cell_type": "code",
      "metadata": {
        "id": "N3rAMmtB_13a"
      },
      "source": [
        "a."
      ],
      "execution_count": null,
      "outputs": []
    },
    {
      "cell_type": "markdown",
      "metadata": {
        "id": "FcJO3umZsDdF"
      },
      "source": [
        "**[1. Dictionary](https://colab.research.google.com/drive/1rD2v7HjlufcTEitfpSOW_giF-AiTwXJY?usp=sharing#scrollTo=IonQxkn6sykK)**"
      ]
    },
    {
      "cell_type": "markdown",
      "metadata": {
        "id": "P0U2yu3DwHC6"
      },
      "source": [
        "**[2. Numpy](https://colab.research.google.com/drive/12hkCFAIfrDGiEpzbYYDgQpku0bR8FA2C?usp=sharing)**"
      ]
    },
    {
      "cell_type": "markdown",
      "metadata": {
        "id": "-OnSwAnVyge8"
      },
      "source": [
        "[**3.Pandas**](https://colab.research.google.com/drive/1zMGLv-P6y1NDkvJ-dTL_vv3lFOKDVWJX?usp=sharing)"
      ]
    },
    {
      "cell_type": "markdown",
      "metadata": {
        "id": "AC2JlB_5p8sG"
      },
      "source": [
        "[**4. Pyplot**](https://colab.research.google.com/drive/16UUST_robm0WusXhlymhnJ2NcYtp0XwL?usp=sharing)"
      ]
    },
    {
      "cell_type": "markdown",
      "metadata": {
        "id": "EGpoM3_Rm6Bs"
      },
      "source": [
        "[**5. Data Analytics**](https://colab.research.google.com/drive/18QDmKcZfYJ4h5jS6stHM5nNAXOxfcgfx?usp=sharing)"
      ]
    }
  ]
}