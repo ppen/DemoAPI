{
  "nbformat": 4,
  "nbformat_minor": 0,
  "metadata": {
    "colab": {
      "name": "Bot noi:DSE#3 Python Fundamental 1 : Homework 1.ipynb",
      "provenance": [],
      "collapsed_sections": [],
      "include_colab_link": true
    },
    "kernelspec": {
      "name": "python3",
      "display_name": "Python 3"
    },
    "language_info": {
      "name": "python"
    }
  },
  "cells": [
    {
      "cell_type": "markdown",
      "metadata": {
        "id": "view-in-github",
        "colab_type": "text"
      },
      "source": [
        "<a href=\"https://colab.research.google.com/github/ppen/DemoAPI/blob/master/Bot_noi_DSE_3_Python_Fundamental_1_Homework_1.ipynb\" target=\"_parent\"><img src=\"https://colab.research.google.com/assets/colab-badge.svg\" alt=\"Open In Colab\"/></a>"
      ]
    },
    {
      "cell_type": "code",
      "metadata": {
        "id": "uJfMrFvl6NCl"
      },
      "source": [
        "class character:\n",
        "  def __init__(self, name, age, job, hp, mp, attack, defend):\n",
        "    self.name = name\n",
        "    self.age = age \n",
        "    self.job = job\n",
        "    self.hp = hp\n",
        "    self.mp = mp\n",
        "    self.attack = attack\n",
        "    self.defend = defend\n",
        "\n",
        "  def chakra(self):\n",
        "    self.hp = self.hp + 35\n",
        "    self.mp = self.mp +10\n",
        "  \n",
        "  def focus(self):\n",
        "    self.attack = self.attack +10\n",
        "\n",
        "    \n",
        "  def status(self):\n",
        "    print(str(\"HP : \"), self.hp)\n",
        "    print(str(\"MP : \"), self.mp)\n",
        "    print(str(\"Attack :\"), self.attack)\n",
        "\n",
        "\n"
      ],
      "execution_count": null,
      "outputs": []
    },
    {
      "cell_type": "markdown",
      "metadata": {
        "id": "7ejbHAAvK2MV"
      },
      "source": [
        "# Ramza Beoulve"
      ]
    },
    {
      "cell_type": "code",
      "metadata": {
        "id": "THR7WAHXKxuy"
      },
      "source": [
        "ramza = character( 'Ramza', 16, 'Squire', 80, 15, 12 , 10)"
      ],
      "execution_count": null,
      "outputs": []
    },
    {
      "cell_type": "code",
      "metadata": {
        "colab": {
          "base_uri": "https://localhost:8080/",
          "height": 35
        },
        "id": "5L88qikcO1EN",
        "outputId": "c2ff4b2a-4b9b-4bf1-b78f-3644681cfbf8"
      },
      "source": [
        "ramza.job"
      ],
      "execution_count": null,
      "outputs": [
        {
          "output_type": "execute_result",
          "data": {
            "application/vnd.google.colaboratory.intrinsic+json": {
              "type": "string"
            },
            "text/plain": [
              "'Squire'"
            ]
          },
          "metadata": {
            "tags": []
          },
          "execution_count": 3
        }
      ]
    },
    {
      "cell_type": "code",
      "metadata": {
        "colab": {
          "base_uri": "https://localhost:8080/"
        },
        "id": "HmDTR-l-SxxQ",
        "outputId": "5a4bf33d-5acd-4a3a-d83f-9bb83ffb4c9b"
      },
      "source": [
        "ramza.attack"
      ],
      "execution_count": null,
      "outputs": [
        {
          "output_type": "execute_result",
          "data": {
            "text/plain": [
              "12"
            ]
          },
          "metadata": {
            "tags": []
          },
          "execution_count": 4
        }
      ]
    },
    {
      "cell_type": "markdown",
      "metadata": {
        "id": "l_h9Anjbz4jF"
      },
      "source": [
        "# Delita Heiral"
      ]
    },
    {
      "cell_type": "code",
      "metadata": {
        "id": "VctQB7sKlttq"
      },
      "source": [
        "delita = character( 'delita',16, 'Archer', 72, 22, 10, 12 )"
      ],
      "execution_count": null,
      "outputs": []
    },
    {
      "cell_type": "code",
      "metadata": {
        "colab": {
          "base_uri": "https://localhost:8080/"
        },
        "id": "meGLiaUHwRtf",
        "outputId": "28105993-186c-46ac-dc9f-10a72d539c55"
      },
      "source": [
        "delita.age"
      ],
      "execution_count": null,
      "outputs": [
        {
          "output_type": "execute_result",
          "data": {
            "text/plain": [
              "16"
            ]
          },
          "metadata": {
            "tags": []
          },
          "execution_count": 6
        }
      ]
    },
    {
      "cell_type": "markdown",
      "metadata": {
        "id": "eTG1dnftlu4U"
      },
      "source": [
        "##What's should Ramza do?"
      ]
    },
    {
      "cell_type": "markdown",
      "metadata": {
        "id": "D8TBMHbmmqQ7"
      },
      "source": [
        "Use Chakra skill (Restore HP/MP)"
      ]
    },
    {
      "cell_type": "code",
      "metadata": {
        "id": "hulgx-f7l-bX"
      },
      "source": [
        "ramza.chakra()"
      ],
      "execution_count": null,
      "outputs": []
    },
    {
      "cell_type": "markdown",
      "metadata": {
        "id": "jhKRGyMsvQaI"
      },
      "source": [
        "Use Focus skill (attacks +10)"
      ]
    },
    {
      "cell_type": "code",
      "metadata": {
        "id": "9XbO9cRhvbir"
      },
      "source": [
        "ramza.focus()"
      ],
      "execution_count": null,
      "outputs": []
    },
    {
      "cell_type": "markdown",
      "metadata": {
        "id": "x_7TwbKjmSgD"
      },
      "source": [
        "##Checking Ramza status "
      ]
    },
    {
      "cell_type": "code",
      "metadata": {
        "colab": {
          "base_uri": "https://localhost:8080/"
        },
        "id": "vs1v5HWQxqGx",
        "outputId": "388f64ad-79b3-4a3c-e394-98b4400337a1"
      },
      "source": [
        "ramza.status()"
      ],
      "execution_count": null,
      "outputs": [
        {
          "output_type": "stream",
          "text": [
            "HP :  115\n",
            "MP :  25\n",
            "Attack : 22\n"
          ],
          "name": "stdout"
        }
      ]
    },
    {
      "cell_type": "markdown",
      "metadata": {
        "id": "VANY5glOFVJc"
      },
      "source": [
        "##Checking Delita status "
      ]
    },
    {
      "cell_type": "code",
      "metadata": {
        "colab": {
          "base_uri": "https://localhost:8080/"
        },
        "id": "fZjBvYUsFVJm",
        "outputId": "dcf6695d-064c-41d6-8a75-d3e8e618dc80"
      },
      "source": [
        "delita.status()"
      ],
      "execution_count": null,
      "outputs": [
        {
          "output_type": "stream",
          "text": [
            "HP :  72\n",
            "MP :  22\n",
            "Attack : 10\n"
          ],
          "name": "stdout"
        }
      ]
    }
  ]
}